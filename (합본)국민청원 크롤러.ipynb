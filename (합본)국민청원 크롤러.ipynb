{
 "cells": [
  {
   "cell_type": "markdown",
   "metadata": {},
   "source": [
    "(21,145771) 수민\n",
    "(145771,291521) 성원\n",
    "(291521,427271) 학민\n",
    "(437271, 583020) 수진"
   ]
  },
  {
   "cell_type": "markdown",
   "metadata": {},
   "source": [
    "### 바로 아래 셀만 바꾸고 순서대로 실행해주세요"
   ]
  },
  {
   "cell_type": "code",
   "execution_count": 1,
   "metadata": {},
   "outputs": [],
   "source": [
    "range_start = 21\n",
    "range_end = 100"
   ]
  },
  {
   "cell_type": "code",
   "execution_count": 2,
   "metadata": {},
   "outputs": [],
   "source": [
    "import requests\n",
    "from bs4 import BeautifulSoup\n",
    "import time\n",
    "from selenium import webdriver\n",
    "import pandas as pd"
   ]
  },
  {
   "cell_type": "code",
   "execution_count": 3,
   "metadata": {},
   "outputs": [],
   "source": [
    "url_list = []\n",
    "for i in range(range_start, range_end):\n",
    "    url = \"https://www1.president.go.kr/petitions/\" + str(i)\n",
    "    url_list.append(url)"
   ]
  },
  {
   "cell_type": "code",
   "execution_count": 5,
   "metadata": {},
   "outputs": [],
   "source": [
    "#주어진 청원의 URL에서 정보(제목, 청원시작일, 카테고리, 서명수, 청원내용)를 추출하는 함수\n",
    "def get_petition_info(url):\n",
    "    while True:\n",
    "        r = requests.get(url)\n",
    "        time.sleep(0.5)\n",
    "        if '<html><head><meta http-equiv=\"Refresh\" content=\"0;' in r.text:\n",
    "            continue\n",
    "        else:\n",
    "            break\n",
    "    soup = BeautifulSoup(r.text, 'lxml')\n",
    "    title = soup.title.text.split(\">\")[0].strip()\n",
    "    if title == '국민청원':\n",
    "        return '존재하지 않는 청원입니다', url.split('/')[-1]\n",
    "    else:\n",
    "        start_date = soup.find('ul', attrs = {'class': 'petitionsView_info_list'}).contents[3].text.replace('청원시작', '')\n",
    "        category = soup.find('ul', attrs = {'class': 'petitionsView_info_list'}).contents[1].text.replace('카테고리', '')\n",
    "        vote_count = soup.find('span', attrs = {'class': 'counter'}).text\n",
    "        content = soup.find('div', attrs = {'class': 'View_write'}).text.strip()\n",
    "        return start_date, category, vote_count, title, content"
   ]
  },
  {
   "cell_type": "code",
   "execution_count": 6,
   "metadata": {},
   "outputs": [],
   "source": [
    "file_name = str(range_start) + '-' + str(range_end) + '_RAW.txt'"
   ]
  },
  {
   "cell_type": "code",
   "execution_count": 8,
   "metadata": {},
   "outputs": [
    {
     "name": "stdout",
     "output_type": "stream",
     "text": [
      "21 번 부터  100 번 청원까지 스크래핑 완료!\n"
     ]
    }
   ],
   "source": [
    "for url in url_list:\n",
    "    with open(file_name, 'a', encoding = 'utf-8') as f:\n",
    "        try:\n",
    "            start_date, category, vote_count, title, content = get_petition_info(url)\n",
    "            f.write('\\t\\t'.join([start_date, category, vote_count, title, content]) + '\\n\\n\\n')\n",
    "        except:\n",
    "            message, petition_num = get_petition_info(url)\n",
    "            f.write('\\t\\t'.join([message, petition_num]) + '\\n\\n\\n')\n",
    "            \n",
    "print(range_start, '번 부터 ', range_end, '번 청원까지 스크래핑 완료!')"
   ]
  },
  {
   "cell_type": "code",
   "execution_count": null,
   "metadata": {},
   "outputs": [],
   "source": []
  }
 ],
 "metadata": {
  "kernelspec": {
   "display_name": "Python 3",
   "language": "python",
   "name": "python3"
  },
  "language_info": {
   "codemirror_mode": {
    "name": "ipython",
    "version": 3
   },
   "file_extension": ".py",
   "mimetype": "text/x-python",
   "name": "python",
   "nbconvert_exporter": "python",
   "pygments_lexer": "ipython3",
   "version": "3.7.3"
  }
 },
 "nbformat": 4,
 "nbformat_minor": 2
}
